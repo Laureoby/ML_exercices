{
 "cells": [
  {
   "cell_type": "markdown",
   "id": "94926c95-d4ef-4de5-8559-aae708c91c84",
   "metadata": {},
   "source": [
    "Machine learning: Bob the builder\n",
    "\n",
    "Building a logistic regression model. We have a feature matrix and a single datapoint to predict. I build a Logistic Regression model with te feature matrix and make prediction 1 or 0. \n",
    "- First line: Number of data points ine the feature matrix (n)\n",
    "- Next n lines: Values of the row in the feature matrix, separated by sapces\n",
    "- Next line: target values separated by space\n",
    "- Final line: Values (separated by spaces) of a single datapoint without a target value"
   ]
  },
  {
   "cell_type": "code",
   "execution_count": 6,
   "id": "c26d7714-7798-4035-887f-fe56e2312d45",
   "metadata": {},
   "outputs": [
    {
     "name": "stdin",
     "output_type": "stream",
     "text": [
      " 6\n",
      " 1 3\n",
      " 3 5\n",
      " 5 7\n",
      " 3 1\n",
      " 5 3\n",
      " 7 5\n",
      " 1 1 1 0 0 0\n",
      " 2 4\n"
     ]
    },
    {
     "name": "stdout",
     "output_type": "stream",
     "text": [
      "1\n"
     ]
    }
   ],
   "source": [
    "n = int(input())\n",
    "X = []\n",
    "for i in range(n):\n",
    "    X.append([float(x) for x in input().split()])\n",
    "y = [int(x) for x in input().split()]\n",
    "datapoint = [float(x) for x in input().split()]\n",
    "\n",
    "from sklearn.linear_model import LogisticRegression\n",
    "\n",
    "model = LogisticRegression()\n",
    "model.fit(X, y)\n",
    "prediction = model.predict([datapoint])\n",
    "\n",
    "print(prediction[0])"
   ]
  },
  {
   "cell_type": "code",
   "execution_count": null,
   "id": "f656a55e-85f8-4ad5-a0c3-a2d7a800150c",
   "metadata": {},
   "outputs": [],
   "source": []
  }
 ],
 "metadata": {
  "kernelspec": {
   "display_name": "Python 3 (ipykernel)",
   "language": "python",
   "name": "python3"
  },
  "language_info": {
   "codemirror_mode": {
    "name": "ipython",
    "version": 3
   },
   "file_extension": ".py",
   "mimetype": "text/x-python",
   "name": "python",
   "nbconvert_exporter": "python",
   "pygments_lexer": "ipython3",
   "version": "3.8.10"
  }
 },
 "nbformat": 4,
 "nbformat_minor": 5
}
